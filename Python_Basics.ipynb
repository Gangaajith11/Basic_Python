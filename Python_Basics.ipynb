{
  "nbformat": 4,
  "nbformat_minor": 0,
  "metadata": {
    "colab": {
      "provenance": [],
      "authorship_tag": "ABX9TyMIFqhC3T2i83PhWL2CCdE4",
      "include_colab_link": true
    },
    "kernelspec": {
      "name": "python3",
      "display_name": "Python 3"
    },
    "language_info": {
      "name": "python"
    }
  },
  "cells": [
    {
      "cell_type": "markdown",
      "metadata": {
        "id": "view-in-github",
        "colab_type": "text"
      },
      "source": [
        "<a href=\"https://colab.research.google.com/github/Gangaajith11/Basic_Python/blob/main/Python_Basics.ipynb\" target=\"_parent\"><img src=\"https://colab.research.google.com/assets/colab-badge.svg\" alt=\"Open In Colab\"/></a>"
      ]
    },
    {
      "cell_type": "code",
      "execution_count": 1,
      "metadata": {
        "colab": {
          "base_uri": "https://localhost:8080/"
        },
        "id": "dUuAyiyZ78w1",
        "outputId": "69927255-a697-4bf0-d936-30d27772b6e9"
      },
      "outputs": [
        {
          "output_type": "stream",
          "name": "stdout",
          "text": [
            "Hello World!\n"
          ]
        }
      ],
      "source": [
        "#Write a Python program to print Hello World?\n",
        "print(\"Hello World!\")"
      ]
    },
    {
      "cell_type": "code",
      "source": [
        "#Write a Python program to do arithmetical operations addition and division.?\n",
        "a=int (input(\"Enter first number \"))\n",
        "b=int (input(\"Enter second number \"))\n",
        "c=a+b\n",
        "d=a/b\n",
        "print(\"Addition is \", c)\n",
        "print(\"Division is \", d)"
      ],
      "metadata": {
        "colab": {
          "base_uri": "https://localhost:8080/"
        },
        "id": "ZaqVBhLj8c16",
        "outputId": "6e70436b-600f-418d-923b-5fc901b5f519"
      },
      "execution_count": 2,
      "outputs": [
        {
          "output_type": "stream",
          "name": "stdout",
          "text": [
            "Enter first number 69\n",
            "Enter second number 12\n",
            "Addition is  81\n",
            "Division is  5.75\n"
          ]
        }
      ]
    },
    {
      "cell_type": "code",
      "source": [
        "#Write a Python program to find the area of a triangle?\n",
        "breadth=int (input(\"Enter breadth of triangle \"))\n",
        "height=int (input(\"Enter height of triangle \"))\n",
        "area=(breadth*height)/2\n",
        "print (\"Area of triangle is\" , round(area,2))"
      ],
      "metadata": {
        "colab": {
          "base_uri": "https://localhost:8080/"
        },
        "id": "1voi_-c_8rvI",
        "outputId": "cf96cf7f-15c4-4be8-8cfc-a711c53fde87"
      },
      "execution_count": 3,
      "outputs": [
        {
          "output_type": "stream",
          "name": "stdout",
          "text": [
            "Enter breadth of triangle 23\n",
            "Enter height of triangle 12\n",
            "Area of triangle is 138.0\n"
          ]
        }
      ]
    },
    {
      "cell_type": "code",
      "source": [
        "#Write a Python program to swap two variables?\n",
        "a=int (input(\"Enter number for a= \"))\n",
        "b=int (input(\"Enter number for b= \"))\n",
        "c=a\n",
        "a=b\n",
        "b=c\n",
        "print(\"a= \", a)\n",
        "print(\"b= \", b)"
      ],
      "metadata": {
        "colab": {
          "base_uri": "https://localhost:8080/"
        },
        "id": "MxKF40A-83K2",
        "outputId": "a85d1949-41d7-41c7-8fc3-f98d40d9fae9"
      },
      "execution_count": 4,
      "outputs": [
        {
          "output_type": "stream",
          "name": "stdout",
          "text": [
            "Enter number for a= 56\n",
            "Enter number for b= 78\n",
            "a=  78\n",
            "b=  56\n"
          ]
        }
      ]
    },
    {
      "cell_type": "code",
      "source": [
        "#Write a Python program to solve quadratic equation?\n",
        "import math\n",
        "a=int(input('Enter value for a '))\n",
        "b=int(input('Enter value for b '))\n",
        "c=int(input('Enter value for c '))\n",
        "d=(b*b)-(4*a*c)\n",
        "result1=(-b+math.sqrt(d))/2*a\n",
        "result2=(-b-math.sqrt(d))/2*a\n",
        "print(result1,result2)"
      ],
      "metadata": {
        "colab": {
          "base_uri": "https://localhost:8080/"
        },
        "id": "93mn5wDe9OzT",
        "outputId": "acfbd770-7db2-4b22-a5df-c3fc2fe2a3d7"
      },
      "execution_count": 5,
      "outputs": [
        {
          "output_type": "stream",
          "name": "stdout",
          "text": [
            "Enter value for a 6\n",
            "Enter value for b 15\n",
            "Enter value for c 9\n",
            "-36.0 -54.0\n"
          ]
        }
      ]
    },
    {
      "cell_type": "code",
      "source": [
        "#Write a Python program to display calendar?\n",
        "import calendar\n",
        "year=int(input('Enter the year '))\n",
        "month=int(input('Enter the month '))\n",
        "print(calendar.month(year,month))"
      ],
      "metadata": {
        "colab": {
          "base_uri": "https://localhost:8080/"
        },
        "id": "zcYoCQLg9dpT",
        "outputId": "19d88c7a-b492-4b57-d702-da80d875e314"
      },
      "execution_count": 6,
      "outputs": [
        {
          "output_type": "stream",
          "name": "stdout",
          "text": [
            "Enter the year 2024\n",
            "Enter the month 11\n",
            "   November 2024\n",
            "Mo Tu We Th Fr Sa Su\n",
            "             1  2  3\n",
            " 4  5  6  7  8  9 10\n",
            "11 12 13 14 15 16 17\n",
            "18 19 20 21 22 23 24\n",
            "25 26 27 28 29 30\n",
            "\n"
          ]
        }
      ]
    },
    {
      "cell_type": "code",
      "source": [
        "#Write a Python Program to Check if a Number is Positive, Negative or Zero?\n",
        "n=int(input('Enter a number: '))\n",
        "if n==0:\n",
        "  print('The number is Zero')\n",
        "elif n>0:\n",
        "  print('The number is positive')\n",
        "elif n<0:\n",
        "  print('The number is negative')"
      ],
      "metadata": {
        "colab": {
          "base_uri": "https://localhost:8080/"
        },
        "id": "pWHWMWZ79-vE",
        "outputId": "94f7b419-9825-4255-b6fb-9ab65ac1c47d"
      },
      "execution_count": 7,
      "outputs": [
        {
          "output_type": "stream",
          "name": "stdout",
          "text": [
            "Enter a number: -45\n",
            "The number is negative\n"
          ]
        }
      ]
    },
    {
      "cell_type": "code",
      "source": [
        "#Write a Python Program to Check if a Number is Odd or Even?\n",
        "n=int(input('Enter a number: '))\n",
        "if n%2==0:\n",
        "  print('The number is even')\n",
        "else :\n",
        "  print('The number is odd')"
      ],
      "metadata": {
        "colab": {
          "base_uri": "https://localhost:8080/"
        },
        "id": "f8OE-YBI-E5x",
        "outputId": "a07b8e00-dffd-4a7d-cf8b-50c356e27389"
      },
      "execution_count": 8,
      "outputs": [
        {
          "output_type": "stream",
          "name": "stdout",
          "text": [
            "Enter a number: 57\n",
            "The number is odd\n"
          ]
        }
      ]
    },
    {
      "cell_type": "code",
      "source": [
        "#Write a Python Program to Print all Prime Numbers in an Interval of 1-50?\n",
        "n=50\n",
        "for i in range(1,n+1):\n",
        "  for j in range(2,i):\n",
        "    if i%j==0:\n",
        "      break\n",
        "  else:\n",
        "      print(i)"
      ],
      "metadata": {
        "colab": {
          "base_uri": "https://localhost:8080/"
        },
        "id": "Kh7Oyxh2-Xp1",
        "outputId": "c97f3e0e-393d-426b-cf2c-ccc87729bd4d"
      },
      "execution_count": 9,
      "outputs": [
        {
          "output_type": "stream",
          "name": "stdout",
          "text": [
            "1\n",
            "2\n",
            "3\n",
            "5\n",
            "7\n",
            "11\n",
            "13\n",
            "17\n",
            "19\n",
            "23\n",
            "29\n",
            "31\n",
            "37\n",
            "41\n",
            "43\n",
            "47\n"
          ]
        }
      ]
    }
  ]
}
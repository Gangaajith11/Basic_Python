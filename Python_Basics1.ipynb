{
  "nbformat": 4,
  "nbformat_minor": 0,
  "metadata": {
    "colab": {
      "provenance": [],
      "authorship_tag": "ABX9TyMN7Cv+q8zPQ6U4TAHdXEe2",
      "include_colab_link": true
    },
    "kernelspec": {
      "name": "python3",
      "display_name": "Python 3"
    },
    "language_info": {
      "name": "python"
    }
  },
  "cells": [
    {
      "cell_type": "markdown",
      "metadata": {
        "id": "view-in-github",
        "colab_type": "text"
      },
      "source": [
        "<a href=\"https://colab.research.google.com/github/Gangaajith11/Basic_Python/blob/main/Python_Basics1.ipynb\" target=\"_parent\"><img src=\"https://colab.research.google.com/assets/colab-badge.svg\" alt=\"Open In Colab\"/></a>"
      ]
    },
    {
      "cell_type": "code",
      "execution_count": 6,
      "metadata": {
        "colab": {
          "base_uri": "https://localhost:8080/"
        },
        "id": "J_z-9SceF_oh",
        "outputId": "c93327c1-a2f2-48d9-fd8c-b4250939ce14"
      },
      "outputs": [
        {
          "output_type": "stream",
          "name": "stdout",
          "text": [
            "Enter a number 12\n",
            "12 * 1 = 12\n",
            "12 * 2 = 24\n",
            "12 * 3 = 36\n",
            "12 * 4 = 48\n",
            "12 * 5 = 60\n",
            "12 * 6 = 72\n",
            "12 * 7 = 84\n",
            "12 * 8 = 96\n",
            "12 * 9 = 108\n",
            "12 * 10 = 120\n"
          ]
        }
      ],
      "source": [
        "#Write a Python Program to Display the multiplication Table?\n",
        "n=int(input(\"Enter a number \"))\n",
        "for i in range(1,11):\n",
        "  print(n,\"*\",i,\"=\",n*i)"
      ]
    },
    {
      "cell_type": "code",
      "source": [
        "#Write a Python Program to Print the Fibonacci sequence?\n",
        "n=int(input(\"Enter a number \"))\n",
        "n1,n2=0,1\n",
        "for i in range(n+1):\n",
        "  print(n1)\n",
        "  n3=n1+n2\n",
        "  n1=n2\n",
        "  n2=n3"
      ],
      "metadata": {
        "colab": {
          "base_uri": "https://localhost:8080/"
        },
        "id": "84C-GHtIHogD",
        "outputId": "312cbc3f-9eb6-4f24-c560-8c8c29b4c84f"
      },
      "execution_count": 41,
      "outputs": [
        {
          "output_type": "stream",
          "name": "stdout",
          "text": [
            "Enter a number 7\n",
            "0\n",
            "1\n",
            "1\n",
            "2\n",
            "3\n",
            "5\n",
            "8\n",
            "13\n"
          ]
        }
      ]
    },
    {
      "cell_type": "code",
      "source": [
        "#Write a Python Program to Check Armstrong Number for a 3 digit number?\n",
        "import math\n",
        "n=int(input(\"Enter a 3 digit number:\"))\n",
        "p=str(n)\n",
        "p0=int(p[0])\n",
        "p1=int(p[1])\n",
        "p2=int(p[2])\n",
        "n1=math.pow(p0,3)\n",
        "n2=math.pow(p1,3)\n",
        "n3=math.pow(p2,3)\n",
        "if n1+n2+n3==n:\n",
        "  print(n,\" is an Armstrong number\")\n",
        "else:\n",
        "  print(n,\" is not an Armstrong number\")"
      ],
      "metadata": {
        "colab": {
          "base_uri": "https://localhost:8080/"
        },
        "id": "4T-ZfY95VZ1Q",
        "outputId": "39b4cbdf-9df6-453b-9c8f-22f2160bf1e9"
      },
      "execution_count": 13,
      "outputs": [
        {
          "output_type": "stream",
          "name": "stdout",
          "text": [
            "Enter a 3 digit number:370\n",
            "370  is an Armstrong number\n"
          ]
        }
      ]
    },
    {
      "cell_type": "code",
      "source": [
        "#Write a Python Program to Check Armstrong Number for a number?\n",
        "import math\n",
        "n=int(input(\"Enter a number:\"))\n",
        "p=str(n)\n",
        "l=[]\n",
        "for i in range(len(p)):\n",
        "  a=int(p[i])\n",
        "  b=math.pow(a,len(p))\n",
        "  l.append(b)\n",
        "s=sum(l)\n",
        "if s==n:\n",
        "  print(n,\" is an Armstrong number\")\n",
        "else:\n",
        "  print(n,\" is not an Armstrong number\")\n",
        "\n"
      ],
      "metadata": {
        "colab": {
          "base_uri": "https://localhost:8080/"
        },
        "id": "ToT67AXPcYYB",
        "outputId": "3e601f52-115f-4978-f60b-8797a3963104"
      },
      "execution_count": 34,
      "outputs": [
        {
          "output_type": "stream",
          "name": "stdout",
          "text": [
            "Enter a number:9474\n",
            "9474  is an Armstrong number\n"
          ]
        }
      ]
    }
  ]
}